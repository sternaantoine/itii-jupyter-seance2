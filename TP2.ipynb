{
 "cells": [
  {
   "cell_type": "markdown",
   "metadata": {},
   "source": [
    "## TP2\n",
    "## Antoine Sterna -- 3IRC -- 23/09/2020"
   ]
  },
  {
   "cell_type": "markdown",
   "metadata": {},
   "source": [
    "#### Exo 1: Rectangle"
   ]
  },
  {
   "cell_type": "code",
   "execution_count": 29,
   "metadata": {},
   "outputs": [
    {
     "name": "stdout",
     "output_type": "stream",
     "text": [
      "60\n",
      "32\n",
      "1260\n"
     ]
    }
   ],
   "source": [
    "class Rectangle:\n",
    "    def __init__(self, longueur, largeur):\n",
    "        self.longueur = longueur\n",
    "        self.largeur = largeur\n",
    "    \n",
    "    def Perimetre(self): \n",
    "        return (self.longueur + self.largeur) *2 \n",
    "    \n",
    "    def Surface(self):\n",
    "        return (self.longueur * self.largeur)\n",
    "    \n",
    "    def getLongeur(self):\n",
    "        return self.longueur\n",
    "    \n",
    "    def getLargeur(self):\n",
    "        return self.largeur\n",
    "    \n",
    "class Parallelepipede(Rectangle):\n",
    "    def __init__(self, longueur, largeur, hauteur):\n",
    "        super().__init__(longueur, largeur)\n",
    "        self.hauteur = hauteur\n",
    "    \n",
    "    def Volume(self):\n",
    "        return self.longueur * self.largeur * self.hauteur\n",
    "    \n",
    "para = Parallelepipede(10,6,21)\n",
    "print(para.Surface())\n",
    "print(para.Perimetre())\n",
    "print(para.Volume())\n",
    "        \n",
    "        \n",
    "        \n",
    "        \n",
    "    \n",
    "    "
   ]
  },
  {
   "cell_type": "markdown",
   "metadata": {},
   "source": [
    "#### Exo 2: Vecteur"
   ]
  },
  {
   "cell_type": "code",
   "execution_count": 22,
   "metadata": {},
   "outputs": [
    {
     "name": "stdout",
     "output_type": "stream",
     "text": [
      "x : 2\n",
      "y : 3\n",
      "---------\n",
      "x : 4\n",
      "y : 5\n",
      "---------\n",
      "x : 6\n",
      "y : 8\n"
     ]
    }
   ],
   "source": [
    "class Vecteur2D:\n",
    "    def __init__(self, x, y):\n",
    "        self.x = x \n",
    "        self.y = y\n",
    "    \n",
    "    def Affichage(self):\n",
    "        print(\"x :\", self.x)\n",
    "        print(\"y :\", self.y)\n",
    "    \n",
    "    def __add__(self, other):\n",
    "        self.x += other.x\n",
    "        self.y += other.y\n",
    "\n",
    "Vect2D1 = Vecteur2D(2,3)\n",
    "Vect2D1.Affichage()\n",
    "print('---------')\n",
    "Vect2D2 = Vecteur2D(4,5)\n",
    "Vect2D2.Affichage()\n",
    "Vect2D1 + Vect2D2\n",
    "print('---------')\n",
    "Vect2D1.Affichage()\n",
    "    "
   ]
  },
  {
   "cell_type": "markdown",
   "metadata": {},
   "source": [
    "#### Exp 3: Pile et File"
   ]
  },
  {
   "cell_type": "code",
   "execution_count": 33,
   "metadata": {},
   "outputs": [
    {
     "name": "stdout",
     "output_type": "stream",
     "text": [
      "\n",
      "Etat de la pile:\n",
      "|\t5\t|\n",
      "|\t2\t|\n",
      "|\t9\t|\n",
      "\n",
      "False\n",
      "\n",
      "Etat de la pile:\n",
      "|\t7\t|\n",
      "|\t2\t|\n",
      "|\t9\t|\n",
      "\n"
     ]
    }
   ],
   "source": [
    "class Base:\n",
    "\n",
    "    def __init__(self):\n",
    "        self.valeurs = []\n",
    "\n",
    "    def pop(self):\n",
    "        if self.valeurs:\n",
    "            return self.valeurs.pop()   \n",
    "        \n",
    "    def push(self, valeur):\n",
    "        self.valeurs.append(valeur)\n",
    "\n",
    "  \n",
    "    def estVide(self):\n",
    "        return self.valeurs == []\n",
    "\n",
    "\n",
    "    def __str__(self):\n",
    "        ch = ''\n",
    "        for x in self.valeurs:\n",
    "            ch = \"|\\t\" + str(x) + \"\\t|\" + \"\\n\" + ch\n",
    "        ch = \"\\nEtat de la pile:\\n\" + ch\n",
    "        return ch\n",
    "\n",
    "\n",
    "p = Base()\n",
    "p.push(9)\n",
    "p.push(2)\n",
    "p.push(5)\n",
    "\n",
    "print(p)\n",
    "\n",
    "p.pop()\n",
    "p.push(7)\n",
    "\n",
    "print(p.estVide())\n",
    "\n",
    "print(p)\n"
   ]
  },
  {
   "cell_type": "code",
   "execution_count": 34,
   "metadata": {},
   "outputs": [
    {
     "name": "stdout",
     "output_type": "stream",
     "text": [
      "\n",
      "Etat de la pile:\n",
      "|\t9\t|\n",
      "|\t2\t|\n",
      "|\t5\t|\n",
      "\n",
      "False\n",
      "\n",
      "Etat de la pile:\n",
      "|\t9\t|\n",
      "|\t2\t|\n",
      "|\t7\t|\n",
      "\n"
     ]
    }
   ],
   "source": [
    "class File:\n",
    "\n",
    "    def __init__(self):\n",
    "        self.valeurs = []\n",
    "\n",
    "        \n",
    "    def push(self, valeur):\n",
    "        self.valeurs.insert(0,valeur)   \n",
    "        \n",
    "    def pop(self):\n",
    "        if self.valeurs:\n",
    "            return self.valeurs.pop(0)   \n",
    "    \n",
    "\n",
    "  \n",
    "    def estVide(self):\n",
    "        return self.valeurs == []\n",
    "\n",
    "\n",
    "    def __str__(self):\n",
    "        ch = ''\n",
    "        for x in self.valeurs:\n",
    "            ch = \"|\\t\" + str(x) + \"\\t|\" + \"\\n\" + ch\n",
    "        ch = \"\\nEtat de la pile:\\n\" + ch\n",
    "        return ch\n",
    "\n",
    "\n",
    "p = File()\n",
    "p.push(9)\n",
    "p.push(2)\n",
    "p.push(5)\n",
    "\n",
    "print(p)\n",
    "\n",
    "p.pop()\n",
    "p.push(7)\n",
    "\n",
    "print(p.estVide())\n",
    "\n",
    "print(p)"
   ]
  },
  {
   "cell_type": "code",
   "execution_count": null,
   "metadata": {},
   "outputs": [],
   "source": []
  }
 ],
 "metadata": {
  "kernelspec": {
   "display_name": "Python 3",
   "language": "python",
   "name": "python3"
  },
  "language_info": {
   "codemirror_mode": {
    "name": "ipython",
    "version": 3
   },
   "file_extension": ".py",
   "mimetype": "text/x-python",
   "name": "python",
   "nbconvert_exporter": "python",
   "pygments_lexer": "ipython3",
   "version": "3.7.6"
  }
 },
 "nbformat": 4,
 "nbformat_minor": 4
}
